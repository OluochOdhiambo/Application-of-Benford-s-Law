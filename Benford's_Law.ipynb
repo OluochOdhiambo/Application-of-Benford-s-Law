{
  "nbformat": 4,
  "nbformat_minor": 0,
  "metadata": {
    "colab": {
      "name": "Benford's Law",
      "provenance": []
    },
    "kernelspec": {
      "name": "python3",
      "display_name": "Python 3"
    }
  },
  "cells": [
    {
      "cell_type": "markdown",
      "metadata": {
        "id": "P1fJfKXSZYCc"
      },
      "source": [
        "## Data Validity and Accuracy Check"
      ]
    },
    {
      "cell_type": "markdown",
      "metadata": {
        "id": "DzgaJY_fZoV0"
      },
      "source": [
        "In the field of research, good data is like gold, it is hard to find. Data can be a powerful tool if the right procedures are taken in its assembly but for one reason or the other, there is always someone who is looking to tamper with your data. From my experience, one of the simplest techniques to test your data is using Benford's law which is is an observation about the leading digits of the numbers found in real-world data sets. According to the law, it is often the case that 1 occurs more frequently than 2, 2 more frequently than 3, and so on.\n",
        "\n",
        "In this notebook, I test the law using data obtained from the Kenya National Bureau of Statistics on the Kenyan Population."
      ]
    },
    {
      "cell_type": "code",
      "metadata": {
        "colab": {
          "base_uri": "https://localhost:8080/"
        },
        "id": "fqLXF7hqLGSz",
        "outputId": "7ac085dc-736c-4f80-f332-b1073bc6db28"
      },
      "source": [
        "!pip install tabula-py"
      ],
      "execution_count": 1,
      "outputs": [
        {
          "output_type": "stream",
          "text": [
            "Requirement already satisfied: tabula-py in /usr/local/lib/python3.6/dist-packages (2.2.0)\n",
            "Requirement already satisfied: pandas>=0.25.3 in /usr/local/lib/python3.6/dist-packages (from tabula-py) (1.1.4)\n",
            "Requirement already satisfied: distro in /usr/local/lib/python3.6/dist-packages (from tabula-py) (1.5.0)\n",
            "Requirement already satisfied: numpy in /usr/local/lib/python3.6/dist-packages (from tabula-py) (1.18.5)\n",
            "Requirement already satisfied: python-dateutil>=2.7.3 in /usr/local/lib/python3.6/dist-packages (from pandas>=0.25.3->tabula-py) (2.8.1)\n",
            "Requirement already satisfied: pytz>=2017.2 in /usr/local/lib/python3.6/dist-packages (from pandas>=0.25.3->tabula-py) (2018.9)\n",
            "Requirement already satisfied: six>=1.5 in /usr/local/lib/python3.6/dist-packages (from python-dateutil>=2.7.3->pandas>=0.25.3->tabula-py) (1.15.0)\n"
          ],
          "name": "stdout"
        }
      ]
    },
    {
      "cell_type": "code",
      "metadata": {
        "id": "FvCpr04ILSgr"
      },
      "source": [
        "# import libraries\n",
        "import tabula \n",
        "import pandas as pd\n",
        "import matplotlib.pyplot as plt\n",
        "import seaborn as sns\n",
        "from random import choices"
      ],
      "execution_count": 2,
      "outputs": []
    },
    {
      "cell_type": "code",
      "metadata": {
        "id": "a_Pujfu0LSVK"
      },
      "source": [
        "# load pdf file\n",
        "filename = \"VOLUME III KPHC 2019.pdf\"\n",
        "\n",
        "table1 = tabula.read_pdf(filename, pages=26)\n",
        "table2 = tabula.read_pdf(filename, pages=27)\n",
        "\n",
        "t1 = pd.DataFrame(table1[0])\n",
        "t2 = pd.DataFrame(table2[0])"
      ],
      "execution_count": 3,
      "outputs": []
    },
    {
      "cell_type": "code",
      "metadata": {
        "colab": {
          "base_uri": "https://localhost:8080/",
          "height": 406
        },
        "id": "Vf8ORxUQPc0t",
        "outputId": "c5138ea3-b87d-4e4a-dc0c-899ea90c92cb"
      },
      "source": [
        "# preview the table 1\n",
        "t1"
      ],
      "execution_count": 4,
      "outputs": [
        {
          "output_type": "execute_result",
          "data": {
            "text/html": [
              "<div>\n",
              "<style scoped>\n",
              "    .dataframe tbody tr th:only-of-type {\n",
              "        vertical-align: middle;\n",
              "    }\n",
              "\n",
              "    .dataframe tbody tr th {\n",
              "        vertical-align: top;\n",
              "    }\n",
              "\n",
              "    .dataframe thead th {\n",
              "        text-align: right;\n",
              "    }\n",
              "</style>\n",
              "<table border=\"1\" class=\"dataframe\">\n",
              "  <thead>\n",
              "    <tr style=\"text-align: right;\">\n",
              "      <th></th>\n",
              "      <th>Age</th>\n",
              "      <th>Male</th>\n",
              "      <th>Female</th>\n",
              "      <th>Intersex</th>\n",
              "      <th>Total</th>\n",
              "    </tr>\n",
              "  </thead>\n",
              "  <tbody>\n",
              "    <tr>\n",
              "      <th>0</th>\n",
              "      <td>Total</td>\n",
              "      <td>2 3,548,056</td>\n",
              "      <td>24,014,716</td>\n",
              "      <td>1 ,524</td>\n",
              "      <td>47,564,296</td>\n",
              "    </tr>\n",
              "    <tr>\n",
              "      <th>1</th>\n",
              "      <td>0</td>\n",
              "      <td>5 52,508</td>\n",
              "      <td>5 52,528</td>\n",
              "      <td>3 8</td>\n",
              "      <td>1,105,074</td>\n",
              "    </tr>\n",
              "    <tr>\n",
              "      <th>2</th>\n",
              "      <td>1</td>\n",
              "      <td>5 80,856</td>\n",
              "      <td>5 73,920</td>\n",
              "      <td>2 9</td>\n",
              "      <td>1,154,805</td>\n",
              "    </tr>\n",
              "    <tr>\n",
              "      <th>3</th>\n",
              "      <td>2</td>\n",
              "      <td>6 14,005</td>\n",
              "      <td>6 10,705</td>\n",
              "      <td>3 3</td>\n",
              "      <td>1,224,743</td>\n",
              "    </tr>\n",
              "    <tr>\n",
              "      <th>4</th>\n",
              "      <td>3</td>\n",
              "      <td>6 19,989</td>\n",
              "      <td>6 21,941</td>\n",
              "      <td>2 6</td>\n",
              "      <td>1,241,956</td>\n",
              "    </tr>\n",
              "    <tr>\n",
              "      <th>...</th>\n",
              "      <td>...</td>\n",
              "      <td>...</td>\n",
              "      <td>...</td>\n",
              "      <td>...</td>\n",
              "      <td>...</td>\n",
              "    </tr>\n",
              "    <tr>\n",
              "      <th>56</th>\n",
              "      <td>46</td>\n",
              "      <td>1 78,394</td>\n",
              "      <td>1 72,948</td>\n",
              "      <td>1 1</td>\n",
              "      <td>351,353</td>\n",
              "    </tr>\n",
              "    <tr>\n",
              "      <th>57</th>\n",
              "      <td>47</td>\n",
              "      <td>1 85,808</td>\n",
              "      <td>1 76,586</td>\n",
              "      <td>1 1</td>\n",
              "      <td>362,405</td>\n",
              "    </tr>\n",
              "    <tr>\n",
              "      <th>58</th>\n",
              "      <td>48</td>\n",
              "      <td>1 32,797</td>\n",
              "      <td>1 25,840</td>\n",
              "      <td>1 1</td>\n",
              "      <td>258,648</td>\n",
              "    </tr>\n",
              "    <tr>\n",
              "      <th>59</th>\n",
              "      <td>49</td>\n",
              "      <td>1 52,594</td>\n",
              "      <td>1 46,924</td>\n",
              "      <td>3</td>\n",
              "      <td>299,521</td>\n",
              "    </tr>\n",
              "    <tr>\n",
              "      <th>60</th>\n",
              "      <td>45-49</td>\n",
              "      <td>9 16,334</td>\n",
              "      <td>8 69,871</td>\n",
              "      <td>5 1</td>\n",
              "      <td>1,786,256</td>\n",
              "    </tr>\n",
              "  </tbody>\n",
              "</table>\n",
              "<p>61 rows × 5 columns</p>\n",
              "</div>"
            ],
            "text/plain": [
              "      Age         Male      Female Intersex       Total\n",
              "0   Total  2 3,548,056  24,014,716   1 ,524  47,564,296\n",
              "1       0     5 52,508    5 52,528      3 8   1,105,074\n",
              "2       1     5 80,856    5 73,920      2 9   1,154,805\n",
              "3       2     6 14,005    6 10,705      3 3   1,224,743\n",
              "4       3     6 19,989    6 21,941      2 6   1,241,956\n",
              "..    ...          ...         ...      ...         ...\n",
              "56     46     1 78,394    1 72,948      1 1     351,353\n",
              "57     47     1 85,808    1 76,586      1 1     362,405\n",
              "58     48     1 32,797    1 25,840      1 1     258,648\n",
              "59     49     1 52,594    1 46,924        3     299,521\n",
              "60  45-49     9 16,334    8 69,871      5 1   1,786,256\n",
              "\n",
              "[61 rows x 5 columns]"
            ]
          },
          "metadata": {
            "tags": []
          },
          "execution_count": 4
        }
      ]
    },
    {
      "cell_type": "code",
      "metadata": {
        "colab": {
          "base_uri": "https://localhost:8080/",
          "height": 406
        },
        "id": "PWm_djZSPjEP",
        "outputId": "75bcf167-e02d-4b40-a529-9af31cd7ee4f"
      },
      "source": [
        "# preview table 2\n",
        "t2"
      ],
      "execution_count": 5,
      "outputs": [
        {
          "output_type": "execute_result",
          "data": {
            "text/html": [
              "<div>\n",
              "<style scoped>\n",
              "    .dataframe tbody tr th:only-of-type {\n",
              "        vertical-align: middle;\n",
              "    }\n",
              "\n",
              "    .dataframe tbody tr th {\n",
              "        vertical-align: top;\n",
              "    }\n",
              "\n",
              "    .dataframe thead th {\n",
              "        text-align: right;\n",
              "    }\n",
              "</style>\n",
              "<table border=\"1\" class=\"dataframe\">\n",
              "  <thead>\n",
              "    <tr style=\"text-align: right;\">\n",
              "      <th></th>\n",
              "      <th>Age</th>\n",
              "      <th>Male</th>\n",
              "      <th>Female</th>\n",
              "      <th>Intersex</th>\n",
              "      <th>Total</th>\n",
              "    </tr>\n",
              "  </thead>\n",
              "  <tbody>\n",
              "    <tr>\n",
              "      <th>0</th>\n",
              "      <td>50</td>\n",
              "      <td>1 95,078</td>\n",
              "      <td>1 94,961</td>\n",
              "      <td>2 4</td>\n",
              "      <td>390,063</td>\n",
              "    </tr>\n",
              "    <tr>\n",
              "      <th>1</th>\n",
              "      <td>51</td>\n",
              "      <td>1 35,462</td>\n",
              "      <td>1 32,506</td>\n",
              "      <td>7</td>\n",
              "      <td>267,975</td>\n",
              "    </tr>\n",
              "    <tr>\n",
              "      <th>2</th>\n",
              "      <td>52</td>\n",
              "      <td>1 24,802</td>\n",
              "      <td>1 18,504</td>\n",
              "      <td>5</td>\n",
              "      <td>243,311</td>\n",
              "    </tr>\n",
              "    <tr>\n",
              "      <th>3</th>\n",
              "      <td>53</td>\n",
              "      <td>94,804</td>\n",
              "      <td>9 4,023</td>\n",
              "      <td>2</td>\n",
              "      <td>188,829</td>\n",
              "    </tr>\n",
              "    <tr>\n",
              "      <th>4</th>\n",
              "      <td>54</td>\n",
              "      <td>1 12,835</td>\n",
              "      <td>1 05,591</td>\n",
              "      <td>6</td>\n",
              "      <td>218,432</td>\n",
              "    </tr>\n",
              "    <tr>\n",
              "      <th>...</th>\n",
              "      <td>...</td>\n",
              "      <td>...</td>\n",
              "      <td>...</td>\n",
              "      <td>...</td>\n",
              "      <td>...</td>\n",
              "    </tr>\n",
              "    <tr>\n",
              "      <th>57</th>\n",
              "      <td>98</td>\n",
              "      <td>1,137</td>\n",
              "      <td>2 ,026</td>\n",
              "      <td>-</td>\n",
              "      <td>3,163</td>\n",
              "    </tr>\n",
              "    <tr>\n",
              "      <th>58</th>\n",
              "      <td>99</td>\n",
              "      <td>1,856</td>\n",
              "      <td>4 ,734</td>\n",
              "      <td>-</td>\n",
              "      <td>6,590</td>\n",
              "    </tr>\n",
              "    <tr>\n",
              "      <th>59</th>\n",
              "      <td>95-99</td>\n",
              "      <td>9,770</td>\n",
              "      <td>1 8,236</td>\n",
              "      <td>-</td>\n",
              "      <td>28,006</td>\n",
              "    </tr>\n",
              "    <tr>\n",
              "      <th>60</th>\n",
              "      <td>100+</td>\n",
              "      <td>3,876</td>\n",
              "      <td>1 0,164</td>\n",
              "      <td>-</td>\n",
              "      <td>14,040</td>\n",
              "    </tr>\n",
              "    <tr>\n",
              "      <th>61</th>\n",
              "      <td>Not Stated</td>\n",
              "      <td>385</td>\n",
              "      <td>297</td>\n",
              "      <td>5</td>\n",
              "      <td>687</td>\n",
              "    </tr>\n",
              "  </tbody>\n",
              "</table>\n",
              "<p>62 rows × 5 columns</p>\n",
              "</div>"
            ],
            "text/plain": [
              "           Age      Male    Female Intersex    Total\n",
              "0           50  1 95,078  1 94,961      2 4  390,063\n",
              "1           51  1 35,462  1 32,506        7  267,975\n",
              "2           52  1 24,802  1 18,504        5  243,311\n",
              "3           53    94,804   9 4,023        2  188,829\n",
              "4           54  1 12,835  1 05,591        6  218,432\n",
              "..         ...       ...       ...      ...      ...\n",
              "57          98     1,137    2 ,026        -    3,163\n",
              "58          99     1,856    4 ,734        -    6,590\n",
              "59       95-99     9,770   1 8,236        -   28,006\n",
              "60        100+     3,876   1 0,164        -   14,040\n",
              "61  Not Stated       385       297        5      687\n",
              "\n",
              "[62 rows x 5 columns]"
            ]
          },
          "metadata": {
            "tags": []
          },
          "execution_count": 5
        }
      ]
    },
    {
      "cell_type": "code",
      "metadata": {
        "colab": {
          "base_uri": "https://localhost:8080/"
        },
        "id": "EQnfAfinMcX3",
        "outputId": "4dbc44dd-b36f-43ad-fa4c-4f4d57760455"
      },
      "source": [
        "print('Shape for table1', t1.shape)\n",
        "print('Shape for table2', t2.shape)"
      ],
      "execution_count": 6,
      "outputs": [
        {
          "output_type": "stream",
          "text": [
            "Shape for table1 (61, 5)\n",
            "Shape for table2 (62, 5)\n"
          ],
          "name": "stdout"
        }
      ]
    },
    {
      "cell_type": "code",
      "metadata": {
        "colab": {
          "base_uri": "https://localhost:8080/"
        },
        "id": "hC80WMpkMsf4",
        "outputId": "ff7ec153-f1ea-49d0-e34e-86a7bc6f418a"
      },
      "source": [
        "# concat the two tables\n",
        "age_pop = pd.concat([t1, t2])\n",
        "age_pop.shape"
      ],
      "execution_count": 7,
      "outputs": [
        {
          "output_type": "execute_result",
          "data": {
            "text/plain": [
              "(123, 5)"
            ]
          },
          "metadata": {
            "tags": []
          },
          "execution_count": 7
        }
      ]
    },
    {
      "cell_type": "code",
      "metadata": {
        "colab": {
          "base_uri": "https://localhost:8080/"
        },
        "id": "dWha54ZlM9Kl",
        "outputId": "b1529c91-fdf1-463d-ea0c-d77917d31720"
      },
      "source": [
        "# check data types\n",
        "age_pop.dtypes"
      ],
      "execution_count": 8,
      "outputs": [
        {
          "output_type": "execute_result",
          "data": {
            "text/plain": [
              "Age         object\n",
              "Male        object\n",
              "Female      object\n",
              "Intersex    object\n",
              "Total       object\n",
              "dtype: object"
            ]
          },
          "metadata": {
            "tags": []
          },
          "execution_count": 8
        }
      ]
    },
    {
      "cell_type": "code",
      "metadata": {
        "colab": {
          "base_uri": "https://localhost:8080/",
          "height": 406
        },
        "id": "ZNgc-yZvQ-O5",
        "outputId": "86cb1330-240c-41ba-e80d-8fa526a1583b"
      },
      "source": [
        "# remove white space\n",
        "cols = ['Age', 'Male', 'Female', 'Intersex', 'Total']\n",
        "\n",
        "for c in cols:\n",
        "  age_pop[c] = age_pop[c].str.replace(' ', '')\n",
        "  age_pop[c] = age_pop[c].str.replace(',', '')\n",
        "\n",
        "age_pop"
      ],
      "execution_count": 9,
      "outputs": [
        {
          "output_type": "execute_result",
          "data": {
            "text/html": [
              "<div>\n",
              "<style scoped>\n",
              "    .dataframe tbody tr th:only-of-type {\n",
              "        vertical-align: middle;\n",
              "    }\n",
              "\n",
              "    .dataframe tbody tr th {\n",
              "        vertical-align: top;\n",
              "    }\n",
              "\n",
              "    .dataframe thead th {\n",
              "        text-align: right;\n",
              "    }\n",
              "</style>\n",
              "<table border=\"1\" class=\"dataframe\">\n",
              "  <thead>\n",
              "    <tr style=\"text-align: right;\">\n",
              "      <th></th>\n",
              "      <th>Age</th>\n",
              "      <th>Male</th>\n",
              "      <th>Female</th>\n",
              "      <th>Intersex</th>\n",
              "      <th>Total</th>\n",
              "    </tr>\n",
              "  </thead>\n",
              "  <tbody>\n",
              "    <tr>\n",
              "      <th>0</th>\n",
              "      <td>Total</td>\n",
              "      <td>23548056</td>\n",
              "      <td>24014716</td>\n",
              "      <td>1524</td>\n",
              "      <td>47564296</td>\n",
              "    </tr>\n",
              "    <tr>\n",
              "      <th>1</th>\n",
              "      <td>0</td>\n",
              "      <td>552508</td>\n",
              "      <td>552528</td>\n",
              "      <td>38</td>\n",
              "      <td>1105074</td>\n",
              "    </tr>\n",
              "    <tr>\n",
              "      <th>2</th>\n",
              "      <td>1</td>\n",
              "      <td>580856</td>\n",
              "      <td>573920</td>\n",
              "      <td>29</td>\n",
              "      <td>1154805</td>\n",
              "    </tr>\n",
              "    <tr>\n",
              "      <th>3</th>\n",
              "      <td>2</td>\n",
              "      <td>614005</td>\n",
              "      <td>610705</td>\n",
              "      <td>33</td>\n",
              "      <td>1224743</td>\n",
              "    </tr>\n",
              "    <tr>\n",
              "      <th>4</th>\n",
              "      <td>3</td>\n",
              "      <td>619989</td>\n",
              "      <td>621941</td>\n",
              "      <td>26</td>\n",
              "      <td>1241956</td>\n",
              "    </tr>\n",
              "    <tr>\n",
              "      <th>...</th>\n",
              "      <td>...</td>\n",
              "      <td>...</td>\n",
              "      <td>...</td>\n",
              "      <td>...</td>\n",
              "      <td>...</td>\n",
              "    </tr>\n",
              "    <tr>\n",
              "      <th>57</th>\n",
              "      <td>98</td>\n",
              "      <td>1137</td>\n",
              "      <td>2026</td>\n",
              "      <td>-</td>\n",
              "      <td>3163</td>\n",
              "    </tr>\n",
              "    <tr>\n",
              "      <th>58</th>\n",
              "      <td>99</td>\n",
              "      <td>1856</td>\n",
              "      <td>4734</td>\n",
              "      <td>-</td>\n",
              "      <td>6590</td>\n",
              "    </tr>\n",
              "    <tr>\n",
              "      <th>59</th>\n",
              "      <td>95-99</td>\n",
              "      <td>9770</td>\n",
              "      <td>18236</td>\n",
              "      <td>-</td>\n",
              "      <td>28006</td>\n",
              "    </tr>\n",
              "    <tr>\n",
              "      <th>60</th>\n",
              "      <td>100+</td>\n",
              "      <td>3876</td>\n",
              "      <td>10164</td>\n",
              "      <td>-</td>\n",
              "      <td>14040</td>\n",
              "    </tr>\n",
              "    <tr>\n",
              "      <th>61</th>\n",
              "      <td>NotStated</td>\n",
              "      <td>385</td>\n",
              "      <td>297</td>\n",
              "      <td>5</td>\n",
              "      <td>687</td>\n",
              "    </tr>\n",
              "  </tbody>\n",
              "</table>\n",
              "<p>123 rows × 5 columns</p>\n",
              "</div>"
            ],
            "text/plain": [
              "          Age      Male    Female Intersex     Total\n",
              "0       Total  23548056  24014716     1524  47564296\n",
              "1           0    552508    552528       38   1105074\n",
              "2           1    580856    573920       29   1154805\n",
              "3           2    614005    610705       33   1224743\n",
              "4           3    619989    621941       26   1241956\n",
              "..        ...       ...       ...      ...       ...\n",
              "57         98      1137      2026        -      3163\n",
              "58         99      1856      4734        -      6590\n",
              "59      95-99      9770     18236        -     28006\n",
              "60       100+      3876     10164        -     14040\n",
              "61  NotStated       385       297        5       687\n",
              "\n",
              "[123 rows x 5 columns]"
            ]
          },
          "metadata": {
            "tags": []
          },
          "execution_count": 9
        }
      ]
    },
    {
      "cell_type": "code",
      "metadata": {
        "colab": {
          "base_uri": "https://localhost:8080/"
        },
        "id": "uqp2qHoRRe1c",
        "outputId": "7ed9d210-d277-4639-adeb-0a109b7c2fe4"
      },
      "source": [
        "# drop range values in Age column\n",
        "range_vals = age_pop[age_pop['Age'].str.contains('-')]\n",
        "print(age_pop.shape)\n",
        "age_pop = age_pop[~age_pop.isin(range_vals)].dropna()\n",
        "print(age_pop.shape)"
      ],
      "execution_count": 10,
      "outputs": [
        {
          "output_type": "stream",
          "text": [
            "(123, 5)\n",
            "(103, 5)\n"
          ],
          "name": "stdout"
        }
      ]
    },
    {
      "cell_type": "code",
      "metadata": {
        "colab": {
          "base_uri": "https://localhost:8080/",
          "height": 406
        },
        "id": "PhVmA0lAR_uv",
        "outputId": "8b20245b-3632-452e-d08d-4f670a5c7f01"
      },
      "source": [
        "# remove Total and NotStated rows\n",
        "age_pop = age_pop.iloc[1:-1, :]\n",
        "age_pop.reset_index(inplace=True, drop=True)\n",
        "age_pop"
      ],
      "execution_count": 11,
      "outputs": [
        {
          "output_type": "execute_result",
          "data": {
            "text/html": [
              "<div>\n",
              "<style scoped>\n",
              "    .dataframe tbody tr th:only-of-type {\n",
              "        vertical-align: middle;\n",
              "    }\n",
              "\n",
              "    .dataframe tbody tr th {\n",
              "        vertical-align: top;\n",
              "    }\n",
              "\n",
              "    .dataframe thead th {\n",
              "        text-align: right;\n",
              "    }\n",
              "</style>\n",
              "<table border=\"1\" class=\"dataframe\">\n",
              "  <thead>\n",
              "    <tr style=\"text-align: right;\">\n",
              "      <th></th>\n",
              "      <th>Age</th>\n",
              "      <th>Male</th>\n",
              "      <th>Female</th>\n",
              "      <th>Intersex</th>\n",
              "      <th>Total</th>\n",
              "    </tr>\n",
              "  </thead>\n",
              "  <tbody>\n",
              "    <tr>\n",
              "      <th>0</th>\n",
              "      <td>0</td>\n",
              "      <td>552508</td>\n",
              "      <td>552528</td>\n",
              "      <td>38</td>\n",
              "      <td>1105074</td>\n",
              "    </tr>\n",
              "    <tr>\n",
              "      <th>1</th>\n",
              "      <td>1</td>\n",
              "      <td>580856</td>\n",
              "      <td>573920</td>\n",
              "      <td>29</td>\n",
              "      <td>1154805</td>\n",
              "    </tr>\n",
              "    <tr>\n",
              "      <th>2</th>\n",
              "      <td>2</td>\n",
              "      <td>614005</td>\n",
              "      <td>610705</td>\n",
              "      <td>33</td>\n",
              "      <td>1224743</td>\n",
              "    </tr>\n",
              "    <tr>\n",
              "      <th>3</th>\n",
              "      <td>3</td>\n",
              "      <td>619989</td>\n",
              "      <td>621941</td>\n",
              "      <td>26</td>\n",
              "      <td>1241956</td>\n",
              "    </tr>\n",
              "    <tr>\n",
              "      <th>4</th>\n",
              "      <td>4</td>\n",
              "      <td>638986</td>\n",
              "      <td>627675</td>\n",
              "      <td>28</td>\n",
              "      <td>1266689</td>\n",
              "    </tr>\n",
              "    <tr>\n",
              "      <th>...</th>\n",
              "      <td>...</td>\n",
              "      <td>...</td>\n",
              "      <td>...</td>\n",
              "      <td>...</td>\n",
              "      <td>...</td>\n",
              "    </tr>\n",
              "    <tr>\n",
              "      <th>96</th>\n",
              "      <td>96</td>\n",
              "      <td>1467</td>\n",
              "      <td>2631</td>\n",
              "      <td>-</td>\n",
              "      <td>4098</td>\n",
              "    </tr>\n",
              "    <tr>\n",
              "      <th>97</th>\n",
              "      <td>97</td>\n",
              "      <td>1963</td>\n",
              "      <td>2799</td>\n",
              "      <td>-</td>\n",
              "      <td>4762</td>\n",
              "    </tr>\n",
              "    <tr>\n",
              "      <th>98</th>\n",
              "      <td>98</td>\n",
              "      <td>1137</td>\n",
              "      <td>2026</td>\n",
              "      <td>-</td>\n",
              "      <td>3163</td>\n",
              "    </tr>\n",
              "    <tr>\n",
              "      <th>99</th>\n",
              "      <td>99</td>\n",
              "      <td>1856</td>\n",
              "      <td>4734</td>\n",
              "      <td>-</td>\n",
              "      <td>6590</td>\n",
              "    </tr>\n",
              "    <tr>\n",
              "      <th>100</th>\n",
              "      <td>100+</td>\n",
              "      <td>3876</td>\n",
              "      <td>10164</td>\n",
              "      <td>-</td>\n",
              "      <td>14040</td>\n",
              "    </tr>\n",
              "  </tbody>\n",
              "</table>\n",
              "<p>101 rows × 5 columns</p>\n",
              "</div>"
            ],
            "text/plain": [
              "      Age    Male  Female Intersex    Total\n",
              "0       0  552508  552528       38  1105074\n",
              "1       1  580856  573920       29  1154805\n",
              "2       2  614005  610705       33  1224743\n",
              "3       3  619989  621941       26  1241956\n",
              "4       4  638986  627675       28  1266689\n",
              "..    ...     ...     ...      ...      ...\n",
              "96     96    1467    2631        -     4098\n",
              "97     97    1963    2799        -     4762\n",
              "98     98    1137    2026        -     3163\n",
              "99     99    1856    4734        -     6590\n",
              "100  100+    3876   10164        -    14040\n",
              "\n",
              "[101 rows x 5 columns]"
            ]
          },
          "metadata": {
            "tags": []
          },
          "execution_count": 11
        }
      ]
    },
    {
      "cell_type": "code",
      "metadata": {
        "colab": {
          "base_uri": "https://localhost:8080/",
          "height": 406
        },
        "id": "I1NR5wdpXfmD",
        "outputId": "8d0def58-031d-44a8-9904-b82a58c04bce"
      },
      "source": [
        "# drop intersex column due to missing values\n",
        "age_pop.drop('Intersex', axis=1, inplace=True)\n",
        "age_pop"
      ],
      "execution_count": 12,
      "outputs": [
        {
          "output_type": "execute_result",
          "data": {
            "text/html": [
              "<div>\n",
              "<style scoped>\n",
              "    .dataframe tbody tr th:only-of-type {\n",
              "        vertical-align: middle;\n",
              "    }\n",
              "\n",
              "    .dataframe tbody tr th {\n",
              "        vertical-align: top;\n",
              "    }\n",
              "\n",
              "    .dataframe thead th {\n",
              "        text-align: right;\n",
              "    }\n",
              "</style>\n",
              "<table border=\"1\" class=\"dataframe\">\n",
              "  <thead>\n",
              "    <tr style=\"text-align: right;\">\n",
              "      <th></th>\n",
              "      <th>Age</th>\n",
              "      <th>Male</th>\n",
              "      <th>Female</th>\n",
              "      <th>Total</th>\n",
              "    </tr>\n",
              "  </thead>\n",
              "  <tbody>\n",
              "    <tr>\n",
              "      <th>0</th>\n",
              "      <td>0</td>\n",
              "      <td>552508</td>\n",
              "      <td>552528</td>\n",
              "      <td>1105074</td>\n",
              "    </tr>\n",
              "    <tr>\n",
              "      <th>1</th>\n",
              "      <td>1</td>\n",
              "      <td>580856</td>\n",
              "      <td>573920</td>\n",
              "      <td>1154805</td>\n",
              "    </tr>\n",
              "    <tr>\n",
              "      <th>2</th>\n",
              "      <td>2</td>\n",
              "      <td>614005</td>\n",
              "      <td>610705</td>\n",
              "      <td>1224743</td>\n",
              "    </tr>\n",
              "    <tr>\n",
              "      <th>3</th>\n",
              "      <td>3</td>\n",
              "      <td>619989</td>\n",
              "      <td>621941</td>\n",
              "      <td>1241956</td>\n",
              "    </tr>\n",
              "    <tr>\n",
              "      <th>4</th>\n",
              "      <td>4</td>\n",
              "      <td>638986</td>\n",
              "      <td>627675</td>\n",
              "      <td>1266689</td>\n",
              "    </tr>\n",
              "    <tr>\n",
              "      <th>...</th>\n",
              "      <td>...</td>\n",
              "      <td>...</td>\n",
              "      <td>...</td>\n",
              "      <td>...</td>\n",
              "    </tr>\n",
              "    <tr>\n",
              "      <th>96</th>\n",
              "      <td>96</td>\n",
              "      <td>1467</td>\n",
              "      <td>2631</td>\n",
              "      <td>4098</td>\n",
              "    </tr>\n",
              "    <tr>\n",
              "      <th>97</th>\n",
              "      <td>97</td>\n",
              "      <td>1963</td>\n",
              "      <td>2799</td>\n",
              "      <td>4762</td>\n",
              "    </tr>\n",
              "    <tr>\n",
              "      <th>98</th>\n",
              "      <td>98</td>\n",
              "      <td>1137</td>\n",
              "      <td>2026</td>\n",
              "      <td>3163</td>\n",
              "    </tr>\n",
              "    <tr>\n",
              "      <th>99</th>\n",
              "      <td>99</td>\n",
              "      <td>1856</td>\n",
              "      <td>4734</td>\n",
              "      <td>6590</td>\n",
              "    </tr>\n",
              "    <tr>\n",
              "      <th>100</th>\n",
              "      <td>100+</td>\n",
              "      <td>3876</td>\n",
              "      <td>10164</td>\n",
              "      <td>14040</td>\n",
              "    </tr>\n",
              "  </tbody>\n",
              "</table>\n",
              "<p>101 rows × 4 columns</p>\n",
              "</div>"
            ],
            "text/plain": [
              "      Age    Male  Female    Total\n",
              "0       0  552508  552528  1105074\n",
              "1       1  580856  573920  1154805\n",
              "2       2  614005  610705  1224743\n",
              "3       3  619989  621941  1241956\n",
              "4       4  638986  627675  1266689\n",
              "..    ...     ...     ...      ...\n",
              "96     96    1467    2631     4098\n",
              "97     97    1963    2799     4762\n",
              "98     98    1137    2026     3163\n",
              "99     99    1856    4734     6590\n",
              "100  100+    3876   10164    14040\n",
              "\n",
              "[101 rows x 4 columns]"
            ]
          },
          "metadata": {
            "tags": []
          },
          "execution_count": 12
        }
      ]
    },
    {
      "cell_type": "code",
      "metadata": {
        "colab": {
          "base_uri": "https://localhost:8080/",
          "height": 406
        },
        "id": "1oWApescY2i8",
        "outputId": "8045798f-d180-4658-9ac8-ed025d5a98bb"
      },
      "source": [
        "# get first digit from string\n",
        "age_pop['male first'] = age_pop['Male'].astype(str).str[0]\n",
        "age_pop['female first'] = age_pop['Female'].astype(str).str[0]\n",
        "age_pop"
      ],
      "execution_count": 13,
      "outputs": [
        {
          "output_type": "execute_result",
          "data": {
            "text/html": [
              "<div>\n",
              "<style scoped>\n",
              "    .dataframe tbody tr th:only-of-type {\n",
              "        vertical-align: middle;\n",
              "    }\n",
              "\n",
              "    .dataframe tbody tr th {\n",
              "        vertical-align: top;\n",
              "    }\n",
              "\n",
              "    .dataframe thead th {\n",
              "        text-align: right;\n",
              "    }\n",
              "</style>\n",
              "<table border=\"1\" class=\"dataframe\">\n",
              "  <thead>\n",
              "    <tr style=\"text-align: right;\">\n",
              "      <th></th>\n",
              "      <th>Age</th>\n",
              "      <th>Male</th>\n",
              "      <th>Female</th>\n",
              "      <th>Total</th>\n",
              "      <th>male first</th>\n",
              "      <th>female first</th>\n",
              "    </tr>\n",
              "  </thead>\n",
              "  <tbody>\n",
              "    <tr>\n",
              "      <th>0</th>\n",
              "      <td>0</td>\n",
              "      <td>552508</td>\n",
              "      <td>552528</td>\n",
              "      <td>1105074</td>\n",
              "      <td>5</td>\n",
              "      <td>5</td>\n",
              "    </tr>\n",
              "    <tr>\n",
              "      <th>1</th>\n",
              "      <td>1</td>\n",
              "      <td>580856</td>\n",
              "      <td>573920</td>\n",
              "      <td>1154805</td>\n",
              "      <td>5</td>\n",
              "      <td>5</td>\n",
              "    </tr>\n",
              "    <tr>\n",
              "      <th>2</th>\n",
              "      <td>2</td>\n",
              "      <td>614005</td>\n",
              "      <td>610705</td>\n",
              "      <td>1224743</td>\n",
              "      <td>6</td>\n",
              "      <td>6</td>\n",
              "    </tr>\n",
              "    <tr>\n",
              "      <th>3</th>\n",
              "      <td>3</td>\n",
              "      <td>619989</td>\n",
              "      <td>621941</td>\n",
              "      <td>1241956</td>\n",
              "      <td>6</td>\n",
              "      <td>6</td>\n",
              "    </tr>\n",
              "    <tr>\n",
              "      <th>4</th>\n",
              "      <td>4</td>\n",
              "      <td>638986</td>\n",
              "      <td>627675</td>\n",
              "      <td>1266689</td>\n",
              "      <td>6</td>\n",
              "      <td>6</td>\n",
              "    </tr>\n",
              "    <tr>\n",
              "      <th>...</th>\n",
              "      <td>...</td>\n",
              "      <td>...</td>\n",
              "      <td>...</td>\n",
              "      <td>...</td>\n",
              "      <td>...</td>\n",
              "      <td>...</td>\n",
              "    </tr>\n",
              "    <tr>\n",
              "      <th>96</th>\n",
              "      <td>96</td>\n",
              "      <td>1467</td>\n",
              "      <td>2631</td>\n",
              "      <td>4098</td>\n",
              "      <td>1</td>\n",
              "      <td>2</td>\n",
              "    </tr>\n",
              "    <tr>\n",
              "      <th>97</th>\n",
              "      <td>97</td>\n",
              "      <td>1963</td>\n",
              "      <td>2799</td>\n",
              "      <td>4762</td>\n",
              "      <td>1</td>\n",
              "      <td>2</td>\n",
              "    </tr>\n",
              "    <tr>\n",
              "      <th>98</th>\n",
              "      <td>98</td>\n",
              "      <td>1137</td>\n",
              "      <td>2026</td>\n",
              "      <td>3163</td>\n",
              "      <td>1</td>\n",
              "      <td>2</td>\n",
              "    </tr>\n",
              "    <tr>\n",
              "      <th>99</th>\n",
              "      <td>99</td>\n",
              "      <td>1856</td>\n",
              "      <td>4734</td>\n",
              "      <td>6590</td>\n",
              "      <td>1</td>\n",
              "      <td>4</td>\n",
              "    </tr>\n",
              "    <tr>\n",
              "      <th>100</th>\n",
              "      <td>100+</td>\n",
              "      <td>3876</td>\n",
              "      <td>10164</td>\n",
              "      <td>14040</td>\n",
              "      <td>3</td>\n",
              "      <td>1</td>\n",
              "    </tr>\n",
              "  </tbody>\n",
              "</table>\n",
              "<p>101 rows × 6 columns</p>\n",
              "</div>"
            ],
            "text/plain": [
              "      Age    Male  Female    Total male first female first\n",
              "0       0  552508  552528  1105074          5            5\n",
              "1       1  580856  573920  1154805          5            5\n",
              "2       2  614005  610705  1224743          6            6\n",
              "3       3  619989  621941  1241956          6            6\n",
              "4       4  638986  627675  1266689          6            6\n",
              "..    ...     ...     ...      ...        ...          ...\n",
              "96     96    1467    2631     4098          1            2\n",
              "97     97    1963    2799     4762          1            2\n",
              "98     98    1137    2026     3163          1            2\n",
              "99     99    1856    4734     6590          1            4\n",
              "100  100+    3876   10164    14040          3            1\n",
              "\n",
              "[101 rows x 6 columns]"
            ]
          },
          "metadata": {
            "tags": []
          },
          "execution_count": 13
        }
      ]
    },
    {
      "cell_type": "code",
      "metadata": {
        "id": "T-DDk4I5d7Rm"
      },
      "source": [
        "age_pop['male first'] = age_pop['male first'].astype(int)\n",
        "age_pop['female first'] = age_pop['female first'].astype(int)"
      ],
      "execution_count": 14,
      "outputs": []
    },
    {
      "cell_type": "code",
      "metadata": {
        "id": "FSh80t2kIPob"
      },
      "source": [
        "#specify ;eading digits\n",
        "population = [1, 2, 3, 4, 5, 6, 7, 8, 9]\n",
        "\n",
        "#Specify the Benford Law weights)\n",
        "weights = [0.301, 0.176, 0.124, 0.096, 0.079, 0.066, 0.057, 0.054, 0.047]\n",
        "\n",
        "#generate sample first_digit set with Benford disctibution\n",
        "first_digits = choices(population, weights, k=101)\n",
        "\n",
        "age_pop[\"Benford's data\"] = first_digits"
      ],
      "execution_count": 15,
      "outputs": []
    },
    {
      "cell_type": "code",
      "metadata": {
        "colab": {
          "base_uri": "https://localhost:8080/",
          "height": 317
        },
        "id": "b6OUSvsTOfEc",
        "outputId": "12479a77-9daa-49a4-cae6-d8ff3fcf3179"
      },
      "source": [
        "male = age_pop['male first'].value_counts()\n",
        "female = age_pop['female first'].value_counts()\n",
        "benford = age_pop[\"Benford's data\"].value_counts()\n",
        "columns = ['Index', 'Male', 'Female', 'Benford']\n",
        "index = range(1,10)\n",
        "\n",
        "ta = pd.DataFrame([index, male.values, female.values, benford.values]).transpose()\n",
        "ta.columns = columns\n",
        "ta"
      ],
      "execution_count": 16,
      "outputs": [
        {
          "output_type": "execute_result",
          "data": {
            "text/html": [
              "<div>\n",
              "<style scoped>\n",
              "    .dataframe tbody tr th:only-of-type {\n",
              "        vertical-align: middle;\n",
              "    }\n",
              "\n",
              "    .dataframe tbody tr th {\n",
              "        vertical-align: top;\n",
              "    }\n",
              "\n",
              "    .dataframe thead th {\n",
              "        text-align: right;\n",
              "    }\n",
              "</style>\n",
              "<table border=\"1\" class=\"dataframe\">\n",
              "  <thead>\n",
              "    <tr style=\"text-align: right;\">\n",
              "      <th></th>\n",
              "      <th>Index</th>\n",
              "      <th>Male</th>\n",
              "      <th>Female</th>\n",
              "      <th>Benford</th>\n",
              "    </tr>\n",
              "  </thead>\n",
              "  <tbody>\n",
              "    <tr>\n",
              "      <th>0</th>\n",
              "      <td>1</td>\n",
              "      <td>25</td>\n",
              "      <td>25</td>\n",
              "      <td>26</td>\n",
              "    </tr>\n",
              "    <tr>\n",
              "      <th>1</th>\n",
              "      <td>2</td>\n",
              "      <td>16</td>\n",
              "      <td>20</td>\n",
              "      <td>16</td>\n",
              "    </tr>\n",
              "    <tr>\n",
              "      <th>2</th>\n",
              "      <td>3</td>\n",
              "      <td>15</td>\n",
              "      <td>14</td>\n",
              "      <td>14</td>\n",
              "    </tr>\n",
              "    <tr>\n",
              "      <th>3</th>\n",
              "      <td>4</td>\n",
              "      <td>13</td>\n",
              "      <td>13</td>\n",
              "      <td>9</td>\n",
              "    </tr>\n",
              "    <tr>\n",
              "      <th>4</th>\n",
              "      <td>5</td>\n",
              "      <td>11</td>\n",
              "      <td>11</td>\n",
              "      <td>9</td>\n",
              "    </tr>\n",
              "    <tr>\n",
              "      <th>5</th>\n",
              "      <td>6</td>\n",
              "      <td>9</td>\n",
              "      <td>10</td>\n",
              "      <td>8</td>\n",
              "    </tr>\n",
              "    <tr>\n",
              "      <th>6</th>\n",
              "      <td>7</td>\n",
              "      <td>5</td>\n",
              "      <td>4</td>\n",
              "      <td>8</td>\n",
              "    </tr>\n",
              "    <tr>\n",
              "      <th>7</th>\n",
              "      <td>8</td>\n",
              "      <td>4</td>\n",
              "      <td>2</td>\n",
              "      <td>7</td>\n",
              "    </tr>\n",
              "    <tr>\n",
              "      <th>8</th>\n",
              "      <td>9</td>\n",
              "      <td>3</td>\n",
              "      <td>2</td>\n",
              "      <td>4</td>\n",
              "    </tr>\n",
              "  </tbody>\n",
              "</table>\n",
              "</div>"
            ],
            "text/plain": [
              "   Index  Male  Female  Benford\n",
              "0      1    25      25       26\n",
              "1      2    16      20       16\n",
              "2      3    15      14       14\n",
              "3      4    13      13        9\n",
              "4      5    11      11        9\n",
              "5      6     9      10        8\n",
              "6      7     5       4        8\n",
              "7      8     4       2        7\n",
              "8      9     3       2        4"
            ]
          },
          "metadata": {
            "tags": []
          },
          "execution_count": 16
        }
      ]
    },
    {
      "cell_type": "code",
      "metadata": {
        "colab": {
          "base_uri": "https://localhost:8080/",
          "height": 564
        },
        "id": "2FAR_BwbaY-7",
        "outputId": "525d4248-58d8-4938-cdb2-f4ba54c6dcc1"
      },
      "source": [
        "# plot distribution\n",
        "ta[['Index', 'Male', 'Female', 'Benford']].plot(x='Index', kind='bar', figsize=(12,9))\n",
        "plt.xlabel('First Digit')\n",
        "plt.title(\"Benford's Law\")\n",
        "plt.show()"
      ],
      "execution_count": 20,
      "outputs": [
        {
          "output_type": "display_data",
          "data": {
            "image/png": "[encoded data removed]",
            "text/plain": [
              "<Figure size 864x648 with 1 Axes>"
            ]
          },
          "metadata": {
            "tags": [],
            "needs_background": "light"
          }
        }
      ]
    },
    {
      "cell_type": "markdown",
      "metadata": {
        "id": "L6LL4959YE-8"
      },
      "source": [
        "Although not perfectly, the data I obtained on the Kenyan population in relation to the different age groups fits Benford's law judging by the distribution of first digits. Kudos to the Kenya National Bureau of Statistics for credible data collection and reporting."
      ]
    }
  ]
}